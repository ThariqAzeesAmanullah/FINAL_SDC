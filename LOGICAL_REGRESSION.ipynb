{
  "nbformat": 4,
  "nbformat_minor": 0,
  "metadata": {
    "colab": {
      "provenance": [],
      "authorship_tag": "ABX9TyPmnyukSFntlw46waaJ8/OE",
      "include_colab_link": true
    },
    "kernelspec": {
      "name": "python3",
      "display_name": "Python 3"
    },
    "language_info": {
      "name": "python"
    }
  },
  "cells": [
    {
      "cell_type": "markdown",
      "metadata": {
        "id": "view-in-github",
        "colab_type": "text"
      },
      "source": [
        "<a href=\"https://colab.research.google.com/github/ThariqAzeesAmanullah/FINAL_SDC/blob/main/LOGICAL_REGRESSION.ipynb\" target=\"_parent\"><img src=\"https://colab.research.google.com/assets/colab-badge.svg\" alt=\"Open In Colab\"/></a>"
      ]
    },
    {
      "cell_type": "code",
      "execution_count": null,
      "metadata": {
        "colab": {
          "base_uri": "https://localhost:8080/"
        },
        "id": "kYIW4yNDrdHm",
        "outputId": "1b72e41f-fb7e-4e91-cec7-75c046725b1a"
      },
      "outputs": [
        {
          "output_type": "stream",
          "name": "stdout",
          "text": [
            "\n",
            "🚘 Enter your details to check if you're likely to purchase a car:\n",
            "Age: 19\n",
            "Monthly Income (₹): 1000000\n",
            "Gender (M/F): M\n",
            "Do you own a house? (Y/N): N\n",
            "\n",
            "✅ Likely to purchase a car (Confidence: 1.00)\n"
          ]
        }
      ],
      "source": [
        "# Step 1: Import libraries\n",
        "import numpy as np\n",
        "from sklearn.linear_model import LogisticRegression\n",
        "from sklearn.model_selection import train_test_split\n",
        "from sklearn.preprocessing import StandardScaler\n",
        "\n",
        "# Step 2: Generate synthetic dataset\n",
        "np.random.seed(42)\n",
        "age = np.random.randint(18, 65, size=(500, 1))\n",
        "income = np.random.randint(15000, 150000, size=(500, 1))\n",
        "gender = np.random.randint(0, 2, size=(500, 1))           # 0 = Female, 1 = Male\n",
        "owns_house = np.random.randint(0, 2, size=(500, 1))        # 0 = No, 1 = Yes\n",
        "\n",
        "X = np.hstack((age, income, gender, owns_house))\n",
        "\n",
        "# Target logic: higher income, middle-aged, owns a house => likely to purchase a car\n",
        "y = ((income > 40000) & (age > 25) & (age < 55) & (owns_house == 1)).astype(int).reshape(-1)\n",
        "\n",
        "# Step 3: Train-test split and scaling\n",
        "X_train, X_test, y_train, y_test = train_test_split(X, y, test_size=0.2, random_state=42)\n",
        "\n",
        "scaler = StandardScaler()\n",
        "X_train_scaled = scaler.fit_transform(X_train)\n",
        "X_test_scaled = scaler.transform(X_test)\n",
        "\n",
        "# Step 4: Train logistic regression model\n",
        "model = LogisticRegression()\n",
        "model.fit(X_train_scaled, y_train)\n",
        "\n",
        "# ---------------- USER INPUT SECTION ----------------\n",
        "print(\"\\n🚘 Enter your details to check if you're likely to purchase a car:\")\n",
        "\n",
        "try:\n",
        "    age_input = float(input(\"Age: \"))\n",
        "    income_input = float(input(\"Monthly Income (₹): \"))\n",
        "    gender_input = input(\"Gender (M/F): \").strip().upper()\n",
        "    owns_house_input = input(\"Do you own a house? (Y/N): \").strip().upper()\n",
        "\n",
        "    gender_val = 1 if gender_input == \"M\" else 0\n",
        "    owns_house_val = 1 if owns_house_input == \"Y\" else 0\n",
        "\n",
        "    user_input = np.array([[age_input, income_input, gender_val, owns_house_val]])\n",
        "    user_scaled = scaler.transform(user_input)\n",
        "\n",
        "    # Step 5: Prediction\n",
        "    prediction = model.predict(user_scaled)[0]\n",
        "    prob = model.predict_proba(user_scaled)[0][1]\n",
        "\n",
        "    # Step 6: Result\n",
        "    if prediction == 1:\n",
        "        print(f\"\\n✅ Likely to purchase a car (Confidence: {prob:.2f})\")\n",
        "    else:\n",
        "        print(f\"\\n❌ Not likely to purchase a car (Confidence: {1 - prob:.2f})\")\n",
        "\n",
        "except ValueError:\n",
        "    print(\"⚠️ Please enter valid numeric inputs.\")\n"
      ]
    }
  ]
}