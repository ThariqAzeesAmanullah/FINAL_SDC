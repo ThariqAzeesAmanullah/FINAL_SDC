{
  "nbformat": 4,
  "nbformat_minor": 0,
  "metadata": {
    "colab": {
      "provenance": [],
      "authorship_tag": "ABX9TyN8x+VZXoTtvSl6kaQUX/5s",
      "include_colab_link": true
    },
    "kernelspec": {
      "name": "python3",
      "display_name": "Python 3"
    },
    "language_info": {
      "name": "python"
    }
  },
  "cells": [
    {
      "cell_type": "markdown",
      "metadata": {
        "id": "view-in-github",
        "colab_type": "text"
      },
      "source": [
        "<a href=\"https://colab.research.google.com/github/ThariqAzeesAmanullah/FINAL_SDC/blob/main/RANDOM_FOREST.ipynb\" target=\"_parent\"><img src=\"https://colab.research.google.com/assets/colab-badge.svg\" alt=\"Open In Colab\"/></a>"
      ]
    },
    {
      "cell_type": "code",
      "execution_count": 1,
      "metadata": {
        "colab": {
          "base_uri": "https://localhost:8080/"
        },
        "id": "b3w7sieGsVag",
        "outputId": "f6d05b42-0aa0-4d31-c9ad-1a4ef049a0c5"
      },
      "outputs": [
        {
          "output_type": "stream",
          "name": "stdout",
          "text": [
            "\n",
            "🧾 Enter your details to check Travel Visa Eligibility:\n",
            "Age: 19\n",
            "Annual Income (₹): 25000\n",
            "No. of countries visited before: 3\n",
            "Currently Employed? (1 = Yes, 0 = No): 1\n",
            "\n",
            "❌ Not Eligible for Travel Visa (Confidence: 0.95)\n"
          ]
        }
      ],
      "source": [
        "# Step 1: Import libraries\n",
        "import numpy as np\n",
        "from sklearn.ensemble import RandomForestClassifier\n",
        "from sklearn.model_selection import train_test_split\n",
        "from sklearn.preprocessing import StandardScaler\n",
        "\n",
        "# Step 2: Generate synthetic dataset\n",
        "np.random.seed(42)\n",
        "age = np.random.randint(18, 60, size=(500, 1))\n",
        "income = np.random.randint(10000, 150000, size=(500, 1))       # Annual income\n",
        "travel_history = np.random.randint(0, 5, size=(500, 1))         # No. of countries visited before\n",
        "employed = np.random.randint(0, 2, size=(500, 1))               # 0 = No, 1 = Yes\n",
        "\n",
        "X = np.hstack((age, income, travel_history, employed))\n",
        "\n",
        "# Eligibility logic: higher income, previous travel history, employed\n",
        "y = ((income > 30000) & (travel_history >= 1) & (employed == 1)).astype(int).reshape(-1)\n",
        "\n",
        "# Step 3: Train-test split and scaling\n",
        "X_train, X_test, y_train, y_test = train_test_split(X, y, test_size=0.2, random_state=42)\n",
        "\n",
        "scaler = StandardScaler()\n",
        "X_train_scaled = scaler.fit_transform(X_train)\n",
        "X_test_scaled = scaler.transform(X_test)\n",
        "\n",
        "# Step 4: Train the Random Forest model\n",
        "model = RandomForestClassifier(n_estimators=100, random_state=42)\n",
        "model.fit(X_train_scaled, y_train)\n",
        "\n",
        "# ---------------- USER INPUT SECTION ----------------\n",
        "\n",
        "print(\"\\n🧾 Enter your details to check Travel Visa Eligibility:\")\n",
        "\n",
        "try:\n",
        "    age_input = float(input(\"Age: \"))\n",
        "    income_input = float(input(\"Annual Income (₹): \"))\n",
        "    travel_input = int(input(\"No. of countries visited before: \"))\n",
        "    employed_input = int(input(\"Currently Employed? (1 = Yes, 0 = No): \"))\n",
        "\n",
        "    user_input = np.array([[age_input, income_input, travel_input, employed_input]])\n",
        "    user_scaled = scaler.transform(user_input)\n",
        "\n",
        "    # Step 5: Prediction\n",
        "    prediction = model.predict(user_scaled)[0]\n",
        "    prob = model.predict_proba(user_scaled)[0][1]\n",
        "\n",
        "    # Step 6: Result\n",
        "    if prediction == 1:\n",
        "        print(f\"\\n✅ Eligible for Travel Visa (Confidence: {prob:.2f})\")\n",
        "    else:\n",
        "        print(f\"\\n❌ Not Eligible for Travel Visa (Confidence: {1 - prob:.2f})\")\n",
        "\n",
        "except ValueError:\n",
        "    print(\"⚠️ Please enter valid numeric values.\")\n"
      ]
    }
  ]
}