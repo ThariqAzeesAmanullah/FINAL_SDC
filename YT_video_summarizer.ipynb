{
  "nbformat": 4,
  "nbformat_minor": 0,
  "metadata": {
    "colab": {
      "provenance": []
    },
    "kernelspec": {
      "name": "python3",
      "display_name": "Python 3"
    },
    "language_info": {
      "name": "python"
    }
  },
  "cells": [
    {
      "cell_type": "code",
      "source": [
        "# Install necessary packages\n",
        "!pip install youtube-transcript-api\n",
        "\n",
        "# Import required libraries\n",
        "from youtube_transcript_api import YouTubeTranscriptApi\n",
        "from collections import Counter\n",
        "\n",
        "# Function to retrieve YouTube transcript in Tamil (if available)\n",
        "def get_transcript(video_id, language='ta'):\n",
        "    try:\n",
        "        transcript = YouTubeTranscriptApi.get_transcript(video_id, languages=[language])\n",
        "        full_transcript = \" \".join([item['text'] for item in transcript])\n",
        "        return full_transcript\n",
        "    except Exception as e:\n",
        "        return str(e)\n",
        "\n",
        "# Simple summarizer function\n",
        "def basic_summarizer(text, num_sentences=5):\n",
        "    # Split the transcript into words and count their frequencies\n",
        "    word_freq = Counter(text.split())\n",
        "    # Sort words by frequency\n",
        "    most_common_words = [word for word, _ in word_freq.most_common(50)]\n",
        "    # Filter sentences containing the most frequent words\n",
        "    sentences = text.split(\". \")\n",
        "    key_sentences = sorted(sentences, key=lambda x: sum(word in x for word in most_common_words), reverse=True)\n",
        "    # Return the top N key sentences\n",
        "    return \". \".join(key_sentences[:num_sentences])\n",
        "\n",
        "# Example: Retrieve and summarize transcript in Tamil\n",
        "video_id = \"U1JLtpJTe84\"  # Your YouTube video ID\n",
        "transcript = get_transcript(video_id, language='ta')\n",
        "\n",
        "if transcript:\n",
        "    summary = basic_summarizer(transcript)\n",
        "    print(\"Summary of the video:\")\n",
        "    print(summary)\n",
        "else:\n",
        "    print(\"Transcript could not be retrieved. Make sure the video has captions in the requested language.\")\n"
      ],
      "metadata": {
        "colab": {
          "base_uri": "https://localhost:8080/"
        },
        "id": "4I1T9eABDoYQ",
        "outputId": "7eb1aaf3-1a99-4057-80e7-17e54c350b12"
      },
      "execution_count": 32,
      "outputs": [
        {
          "output_type": "stream",
          "name": "stdout",
          "text": [
            "Requirement already satisfied: youtube-transcript-api in /usr/local/lib/python3.11/dist-packages (1.0.3)\n",
            "Requirement already satisfied: defusedxml<0.8.0,>=0.7.1 in /usr/local/lib/python3.11/dist-packages (from youtube-transcript-api) (0.7.1)\n",
            "Requirement already satisfied: requests in /usr/local/lib/python3.11/dist-packages (from youtube-transcript-api) (2.32.3)\n",
            "Requirement already satisfied: charset-normalizer<4,>=2 in /usr/local/lib/python3.11/dist-packages (from requests->youtube-transcript-api) (3.4.1)\n",
            "Requirement already satisfied: idna<4,>=2.5 in /usr/local/lib/python3.11/dist-packages (from requests->youtube-transcript-api) (3.10)\n",
            "Requirement already satisfied: urllib3<3,>=1.21.1 in /usr/local/lib/python3.11/dist-packages (from requests->youtube-transcript-api) (2.3.0)\n",
            "Requirement already satisfied: certifi>=2017.4.17 in /usr/local/lib/python3.11/dist-packages (from requests->youtube-transcript-api) (2025.1.31)\n",
            "Summary of the video:\n",
            "[இசை] வானம் பார்த்து கிடந்தேனே மழையாய் வந்து விழுந்தாயே வழி வழி [இசை] കണ്ടേ കണ്ടേ എന്നുടയവളെ തന്തേൻ തന്തേൻ മിച്ച ഉയിരെ കണ്ടേ കണ്ടേ എന്നുടെவனை தந்தேன் தந்தேன் മിച്ച ഉയിരെ உற்று உன்னை பார்க்கையிலே தொற்று கிடைத்த തനിമയിനെ കട്ട് தந்த காதல் வழி விட்டு போனதே ஊர் கூடும் நல்ல நல்ல தளங்களெல்லாம் உன்னை கூட்டிக்கொண்டு கைகோர்த்துக்கொண்டு இதை சேர்த்து வைத்த நல்ல இடங்களை நாம் வா தேடி தேடி போவோம் இதை சேர்ந்திருக்கும் அந்த நேரத்திலே நீ இருக்கும் வேளையிலே என்ன வர வேண்டும் என்பதையே நான் வேண்டி வேண்டி கேட்டேன் வானம் பார்த்து கிடந்தேனே அழகாய் வந்து விழுந்தாயே வழி வழி வண்ணம் சூழ்ந்த இடமெல்லாம் வாடி திரிவோம் என் துணையே வழி [இசை] நீயே கண்டேன் கண்டேன் என்னுடையவளை தந்தேன் தந்தேன் மிச்ச உயிரை [இசை] [இசை] എന്റെ നേരം ഇനി പോലെ എപ്പോ ഇരുപ്പായാൽ ഉച്ചവച്ച ആശ കൊണ്ടേനേ ഉന്നിടത്തിനിലെ വെട്ടം കുളിർ எது வந்தாலும் மிதமாக இணைவாயா திக்குமுக்கு ஆடி போகின்றேன் நீர் வீழ்ச்சி நெற்றியின் மீது நிற்காமல் பொழிவது போல உன் முத்தம் கொட்டிட வேண்டும் உறவு தொடங்கிடுது நீ பாதும் வரை எங்கேயோ பிறந்த என் அன்பே என்னை தேடி வந்ததே போதும் இனி வாழும் அத்தனை நாளும் எனக்கு மெனுகுமே வானம் பார்த்து கிடந்தேனே அழகாய் வந்து விழுந்தாய் வழி துணையே வழி துணையே வண்ணம் சூழ்ந்த இடமெல்லாம் வாடி திரிவோம் என் துணையே வழி நீயே நிசம நிர നിധമ\n"
          ]
        }
      ]
    }
  ]
}